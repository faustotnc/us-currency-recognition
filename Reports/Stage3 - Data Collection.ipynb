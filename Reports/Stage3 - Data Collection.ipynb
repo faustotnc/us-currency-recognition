{
  "cells": [
    {
      "cell_type": "markdown",
      "metadata": {
        "id": "52G_2rDT-Lzi"
      },
      "source": [
        "# Stage 3 - Data Collection\n",
        "- Project Title: U.S. Currency Recognition\n",
        "- Authors: Benjamin Gambill, Fausto German, Joshua Wygal, Robert Wilk, Soji A."
      ]
    },
    {
      "cell_type": "markdown",
      "metadata": {
        "id": "mvVF0Ekg-XnT"
      },
      "source": [
        "## Objects and Class Labels\n",
        "What objects do we have? What are the labels?"
      ]
    },
    {
      "cell_type": "markdown",
      "metadata": {
        "id": "L0n1gGOcGJNm"
      },
      "source": [
        "Our objects are the most common United States coins and dollar bills. The labels are: \n",
        "\n",
        "*   Penny\n",
        "*   Nickel\n",
        "*   Dime\n",
        "*   Quarter\n",
        "*   OneBill\n",
        "*   TwoBill\n",
        "*   FiveBill\n",
        "*   TenBill\n",
        "*   TwentyBill\n",
        "*   FiftyBill\n",
        "*   HundredBill"
      ]
    },
    {
      "cell_type": "markdown",
      "metadata": {
        "id": "soB37kN1-ec0"
      },
      "source": [
        "## Dataset Information\n",
        "How big is the dataset? What are the different levels of complexity? How will having multiple levels of complexity help the final model?"
      ]
    },
    {
      "cell_type": "markdown",
      "metadata": {
        "id": "s3nGLyCbIuqJ"
      },
      "source": [
        "We plan to have around 600-700 images in our dataset. There are 4 different levels of complexity. Level 1 will mostly consist of only one or a small number of currency in good lighting. Level 2 will be bad lighting or some pieces of currency overlapping/covered. Level 3 will have objects, some overlap of currency, and/or some varying lighting. Level 4 will have a lot of currency, possibly have bad lighting, have overlapping/partially showing currency, and lots of objects. Having multiple levels of complexity will help the model to be able to generalize and recognize currency in various scenarios."
      ]
    },
    {
      "cell_type": "markdown",
      "metadata": {
        "id": "xSP2O8YS_JP1"
      },
      "source": [
        "## Training/Testing Split\n",
        "How will the dataset be compiled together and divided into training and testing? What will the testing/training ratio be?"
      ]
    },
    {
      "cell_type": "markdown",
      "metadata": {
        "id": "_1WJtpdDKF5s"
      },
      "source": [
        "All the datasets from each of us will be combined and then split into the four levels of complexity. \n",
        "\n",
        "70% of the data from each level of complexity will be selected for training and the remaining 30% will be selected for testing."
      ]
    },
    {
      "cell_type": "markdown",
      "metadata": {
        "id": "5UA6fnmx_i9C"
      },
      "source": [
        "## Data Samples\n"
      ]
    },
    {
      "cell_type": "markdown",
      "metadata": {
        "id": "_paR3S1qDT8m"
      },
      "source": [
        "### Level #1\n",
        "\n",
        "| Sample #1 | Sample #2 | Sample #3 | Sample #4 |\n",
        "| ----------- | ----------- | ----------- | ----------- |\n",
        "|<img src=\"./Stage3_SampleImages/Level%201/60.jpg\" alt=\"Level 1, Sample #1\" width=\"300px\">|<img src=\"./Stage3_SampleImages/Level%201/IMG_0103.JPG\" alt=\"Level 1, Sample #2\" width=\"300px\">|<img src=\"./Stage3_SampleImages/Level%201/IMG_20220212_070754.jpg\" alt=\"Level 1, Sample #3\" width=\"300px\">|<img src=\"./Stage3_SampleImages/Level%201/IMG_7700.jpg\" alt=\"Level 1, Sample #4\" width=\"300px\">"
      ]
    },
    {
      "cell_type": "markdown",
      "metadata": {
        "id": "MN5rnzpvDa89"
      },
      "source": [
        "### Level #2\n",
        "| Sample #1 | Sample #2 | Sample #3 | Sample #4 |\n",
        "| ----------- | ----------- | ----------- | ----------- |\n",
        "|<img src=\"./Stage3_SampleImages/Level%202/78.jpg\" alt=\"Level 2, Sample #1\" width=\"300px\">|<img src=\"./Stage3_SampleImages/Level%202/IMG_0122.JPG\" alt=\"Level 2, Sample #2\" width=\"300px\">|<img src=\"./Stage3_SampleImages/Level%202/IMG_20220302_171716.jpg\" alt=\"Level 2, Sample #3\" width=\"300px\">|<img src=\"./Stage3_SampleImages/Level%202/IMG_7838.jpg\" alt=\"Level 2, Sample #4\" width=\"300px\">"
      ]
    },
    {
      "cell_type": "markdown",
      "metadata": {
        "id": "RDI-baa8DcZP"
      },
      "source": [
        "### Level #3\n",
        "| Sample #1 | Sample #2 | Sample #3 | Sample #4 |\n",
        "| ----------- | ----------- | ----------- | ----------- |\n",
        "|<img src=\"./Stage3_SampleImages/Level%203/82.jpg\" alt=\"Level 3, Sample #1\" width=\"300px\">|<img src=\"./Stage3_SampleImages/Level%203/IMG_0183.JPG\" alt=\"Level 3, Sample #2\" width=\"300px\">|<img src=\"./Stage3_SampleImages/Level%203/IMG_20220212_071540.jpg\" alt=\"Level 3, Sample #3\" width=\"300px\">|<img src=\"./Stage3_SampleImages/Level%203/IMG_7730.jpg\" alt=\"Level 3, Sample #4\" width=\"300px\">"
      ]
    },
    {
      "cell_type": "markdown",
      "metadata": {
        "id": "lJyOs40gOQhZ"
      },
      "source": [
        "### Level #4\n",
        "| Sample #1 | Sample #2 | Sample #3 | Sample #4 |\n",
        "| ----------- | ----------- | ----------- | ----------- |\n",
        "|<img src=\"./Stage3_SampleImages/Level%204/90.jpg\" alt=\"Level 4, Sample #1\" width=\"300px\">|<img src=\"./Stage3_SampleImages/Level%204/IMG_0088.JPG\" alt=\"Level 4, Sample #2\" width=\"300px\">|<img src=\"./Stage3_SampleImages/Level%204/IMG_20220302_171927.jpg\" alt=\"Level 4, Sample #3\" width=\"300px\">|<img src=\"./Stage3_SampleImages/Level%204/IMG_7936.jpg\" alt=\"Level 4, Sample #4\" width=\"300px\">"
      ]
    },
    {
      "cell_type": "markdown",
      "metadata": {
        "id": "hm5yqNxIDe6M"
      },
      "source": [
        "### Labeled Images\n",
        "This is how the object bounding boxes look after labeling the images using either CVAT.org or LabelIMG.\n",
        "\n",
        "| Sample #1 | Sample #2 | Sample #3 | Sample #4 |\n",
        "| ----------- | ----------- | ----------- | ----------- |\n",
        "|<img src=\"./Stage3_SampleImages/lebeled/s1.png\" alt=\"labeled #1\" width=\"300px\">|<img src=\"./Stage3_SampleImages/lebeled/s2.png\" alt=\"labeled #2\" width=\"300px\">|<img src=\"./Stage3_SampleImages/lebeled/s3.png\" alt=\"labeled #3\" width=\"300px\">|<img src=\"./Stage3_SampleImages/lebeled/s4.png\" alt=\"labeled #4\" width=\"300px\">|\n",
        "|<img src=\"./Stage3_SampleImages/lebeled/s5.png\" alt=\"labeled #5\" width=\"300px\">|<img src=\"./Stage3_SampleImages/lebeled/s6.png\" alt=\"labeled #6\" width=\"300px\">|<img src=\"./Stage3_SampleImages/lebeled/s7.png\" alt=\"labeled #7\" width=\"300px\">|<img src=\"./Stage3_SampleImages/lebeled/s8.png\" alt=\"labeled #8\" width=\"300px\">|"
      ]
    },
    {
      "cell_type": "code",
      "execution_count": null,
      "metadata": {
        "id": "FdLQZ4K-RLpA"
      },
      "outputs": [],
      "source": []
    }
  ],
  "metadata": {
    "colab": {
      "collapsed_sections": [],
      "name": "USCurrencyRecognition-DataCollection.ipynb",
      "provenance": []
    },
    "kernelspec": {
      "display_name": "Python 3",
      "name": "python3"
    },
    "language_info": {
      "name": "python"
    }
  },
  "nbformat": 4,
  "nbformat_minor": 0
}
