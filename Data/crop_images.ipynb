{
 "cells": [
  {
   "cell_type": "code",
   "execution_count": null,
   "metadata": {},
   "outputs": [],
   "source": [
    "import xml.etree.ElementTree as ET\n",
    "from os.path import isfile\n",
    "import glob\n",
    "from PIL import Image\n",
    "from copy import deepcopy\n",
    "import numpy as np\n",
    "\n",
    "from smart_crop import smart_crop"
   ]
  },
  {
   "cell_type": "markdown",
   "metadata": {},
   "source": [
    "# Crop Images\n",
    "This script allows you to crop all of the images to the largest square that will fit all bounding boxes in the image.\n",
    "\n",
    "One of the limitations of implementing this kind of cropping technique on the dataset is that the objects will (for the most part) always be at the center of the image, so a neural network could be biased toward always predicting that the object is at the center of the image."
   ]
  },
  {
   "cell_type": "code",
   "execution_count": null,
   "metadata": {},
   "outputs": [],
   "source": [
    "def fix_annotation_issues(p, save_p):\n",
    "    for ann_path in sorted([f for f in glob.glob(f\"{p}*.xml\") if isfile(f)]):\n",
    "        xml_tree = ET.parse(ann_path)\n",
    "        img_name = ann_path.split(\"/\")[-1].split(\".\")[0]\n",
    "        raw_img = Image.open(f\"{p}{img_name}.jpg\")\n",
    "\n",
    "        print(\"Working on: \"+img_name)\n",
    "        new_img, new_ann = smart_crop(raw_img, deepcopy(xml_tree.getroot()))\n",
    "        nw, nh = new_img.size\n",
    "        new_img = new_img.resize((700,700))\n",
    "\n",
    "        # Update width and height\n",
    "        w, h = new_img.size\n",
    "        new_ann.find(\"size\").find(\"width\").text = str(w)\n",
    "        new_ann.find(\"size\").find(\"height\").text = str(h)\n",
    "\n",
    "        scaling_matrix = np.array([\n",
    "            [w/nw, 0],\n",
    "            [0, h/nh],\n",
    "        ])\n",
    "\n",
    "        # Correct issues with the bounding boxes\n",
    "        for obj in new_ann.findall(\"object\"):\n",
    "            box = obj.find(\"bndbox\")\n",
    "            x_min = round(float(box.find(\"xmin\").text))\n",
    "            y_min = round(float(box.find(\"ymin\").text))\n",
    "            x_max = round(float(box.find(\"xmax\").text))\n",
    "            y_max = round(float(box.find(\"ymax\").text))\n",
    "\n",
    "            # Correct bbox direction\n",
    "            new_x_min = min(x_min, x_max)\n",
    "            new_x_max = max(x_min, x_max)\n",
    "            new_y_min = min(y_min, y_max)\n",
    "            new_y_max = max(y_min, y_max)\n",
    "\n",
    "            s_xy_min = np.round(scaling_matrix @ [[new_x_min], [new_y_min]]).flatten().astype(int)\n",
    "            s_xy_max = np.round(scaling_matrix @ [[new_x_max], [new_y_max]]).flatten().astype(int)\n",
    "\n",
    "            # Prevent the bounding boxes from being at the edge of the image\n",
    "            if s_xy_min[0] == 0: s_xy_min[0] = 2\n",
    "            if s_xy_min[1] == 0: s_xy_min[1] = 2\n",
    "            if s_xy_max[0] == w: s_xy_max[0] = w - 2\n",
    "            if s_xy_max[1] == h: s_xy_max[1] = h - 2\n",
    "\n",
    "            # Correct any issues in the direction of the bounding box coordinates\n",
    "            box.find(\"xmin\").text = str(s_xy_min[0])\n",
    "            box.find(\"xmax\").text = str(s_xy_max[0])\n",
    "            box.find(\"ymin\").text = str(s_xy_min[1])\n",
    "            box.find(\"ymax\").text = str(s_xy_max[1])\n",
    "\n",
    "\n",
    "        # Save the Updated XML File\n",
    "        ET.ElementTree(new_ann).write(save_p+\"/\"+img_name+\".xml\")\n",
    "        new_img.save(save_p+\"/\"+img_name+\".jpg\")"
   ]
  },
  {
   "cell_type": "code",
   "execution_count": null,
   "metadata": {},
   "outputs": [],
   "source": [
    "fix_annotation_issues(\"./Split/train/\", \"./Cropped/train/\")\n",
    "fix_annotation_issues(\"./Split/test/\", \"./Cropped/test/\")"
   ]
  }
 ],
 "metadata": {
  "interpreter": {
   "hash": "fb2d85952afab934b6f467b4d2855d42a8abceb466c901e7c1555b292b3b5f86"
  },
  "kernelspec": {
   "display_name": "Python 3.9.10 ('cv-money-counter')",
   "language": "python",
   "name": "python3"
  },
  "language_info": {
   "codemirror_mode": {
    "name": "ipython",
    "version": 3
   },
   "file_extension": ".py",
   "mimetype": "text/x-python",
   "name": "python",
   "nbconvert_exporter": "python",
   "pygments_lexer": "ipython3",
   "version": "3.9.10"
  },
  "orig_nbformat": 4
 },
 "nbformat": 4,
 "nbformat_minor": 2
}
